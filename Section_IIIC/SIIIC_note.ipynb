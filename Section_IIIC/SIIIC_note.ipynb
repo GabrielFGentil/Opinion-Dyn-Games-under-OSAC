{
 "cells": [
  {
   "attachments": {},
   "cell_type": "markdown",
   "id": "bf556888",
   "metadata": {},
   "source": [
    "# Subsection-IIIC Plots\n",
    "\n",
    "First Code Session:\n",
    "\n",
    "In order to run the code, you will need to ensure that you have all the necessary packages installed, which are in the first code section. Once all the required packages are installed and loaded, you can import the necessary functions using the second code section."
   ]
  },
  {
   "cell_type": "code",
   "execution_count": 1,
   "id": "d73c6593",
   "metadata": {},
   "outputs": [],
   "source": [
    "using PyPlot, LinearAlgebra, JuMP, Ipopt, Statistics, RandomMatrices, Permutations, RollingFunctions"
   ]
  },
  {
   "cell_type": "code",
   "execution_count": 8,
   "id": "9ee48d0f",
   "metadata": {},
   "outputs": [],
   "source": [
    "include(\"SIIIC_code.jl\");\n",
    "include(\"SIIIC_plots.jl\");"
   ]
  },
  {
   "attachments": {},
   "cell_type": "markdown",
   "id": "4023b8f8",
   "metadata": {},
   "source": [
    "Below are the settings for Figures 1, 2 & 3 of the article. This information is included in the article itself."
   ]
  },
  {
   "cell_type": "code",
   "execution_count": 3,
   "id": "ab8c7844",
   "metadata": {},
   "outputs": [
    {
     "name": "stdout",
     "output_type": "stream",
     "text": [
      "\n",
      "******************************************************************************\n",
      "This program contains Ipopt, a library for large-scale nonlinear optimization.\n",
      " Ipopt is released as open source code under the Eclipse Public License (EPL).\n",
      "         For more information visit https://github.com/coin-or/Ipopt\n",
      "******************************************************************************\n",
      "\n"
     ]
    }
   ],
   "source": [
    "x_init = [0.5;0.5]\n",
    "A = [0.5 0.5; 0.5 0.5]\n",
    "B = [1 0; 0 1] \n",
    "\n",
    "x1_hat = 0.8 #Goal for player 1\n",
    "x2_hat = 0.1 #Goal for player 2\n",
    "\n",
    "targets = [x1_hat 0; 0 x2_hat]\n",
    "\n",
    "γ = [0.01; 0.01] #Cost for each player\n",
    "\n",
    "K_f = 20; #Time for the plot\n",
    "\n",
    "p_flag = 0; #Projection flag\n",
    "perm_flag = 0; #Perm flag = 1 is random permutation; = 0 is no permutation; = 3 is Figure 3 permutation exactly\n",
    "x_os_1, u_os_1, x_plot_1 = COD_OSA_GS_2a(x_init,targets,γ,K_f,A,B,p_flag,perm_flag);"
   ]
  },
  {
   "attachments": {},
   "cell_type": "markdown",
   "id": "2528f8b7",
   "metadata": {},
   "source": [
    "# Figure 1"
   ]
  },
  {
   "cell_type": "code",
   "execution_count": 4,
   "id": "93fadd7e",
   "metadata": {},
   "outputs": [],
   "source": [
    "save = 0; #If save = 1, figure will be saved by name \"GS_2a_plot\"\n",
    "plot_2a_2p(x_os_1, save)"
   ]
  },
  {
   "attachments": {},
   "cell_type": "markdown",
   "id": "436d9119",
   "metadata": {},
   "source": [
    "# Figure 2 "
   ]
  },
  {
   "cell_type": "code",
   "execution_count": 6,
   "id": "60c52303",
   "metadata": {},
   "outputs": [],
   "source": [
    "save = 0; #If save = 1, figure will be saved by name \"GS_2a_scatter\"\n",
    "scatter_plot(x_plot_1,save)"
   ]
  },
  {
   "attachments": {},
   "cell_type": "markdown",
   "id": "0eb07ecc",
   "metadata": {},
   "source": [
    "# Figure 3\n",
    "\n",
    "Remember that \"perm_flag = 3\" means using permutation to get Figure 3 of the article, specifically. If you want a random permutation, use \"perm_flag = 1\"."
   ]
  },
  {
   "cell_type": "code",
   "execution_count": 10,
   "id": "eadbc1e4",
   "metadata": {},
   "outputs": [],
   "source": [
    "p_flag = 0; #Projection flag\n",
    "perm_flag = 3; #Perm flag\n",
    "x_os_2, u_os_2, x_plot_2 = COD_OSA_GS_2a(x_init,targets,γ,K_f,A,B,p_flag,perm_flag);\n",
    "plot_2a_2p(x_os_2, save)"
   ]
  },
  {
   "attachments": {},
   "cell_type": "markdown",
   "id": "2f83dbfd",
   "metadata": {},
   "source": [
    "# Extra \n",
    "\n",
    "There are additional simulations that were not included in the body of the article but are included in this section. Rather than consider two agents as described above, the code below considers three agents instead of two."
   ]
  },
  {
   "cell_type": "code",
   "execution_count": 146,
   "id": "094c8493",
   "metadata": {},
   "outputs": [],
   "source": [
    "x_init = [0;0;0]\n",
    "A = [0.2 0.4 0.4; 0.1 0.4 0.5; 0.4 0.4 0.2]\n",
    "B = [1 0 0; 0 1 0; 0 0 0]\n",
    "\n",
    "x1_hat = 0.8\n",
    "x2_hat = 0.1\n",
    "\n",
    "targets = [x1_hat 0; 0 x2_hat; 0 0]\n",
    "\n",
    "γ = [0.01; 0.01]\n",
    "\n",
    "K_f = 20;\n",
    "\n",
    "p_flag = 0; #Projection flag\n",
    "perm_flag = 0 ; #Perm flag\n",
    "x_os, u_os, x_plot = COD_OSA_GS_2a(x_init,targets,γ,K_f,A,B,p_flag,perm_flag);\n",
    "extra_plot(x_os,targets,K_f)"
   ]
  },
  {
   "attachments": {},
   "cell_type": "markdown",
   "id": "8ec1c928",
   "metadata": {},
   "source": [
    "You will notice that the code \"ax[:view_init](0, 0)\" rotates the 3D image, first number representing its horizontal rotation, in degrees, and second number representing its vertical rotation, in degrees."
   ]
  },
  {
   "cell_type": "code",
   "execution_count": 194,
   "id": "3143604e",
   "metadata": {
    "scrolled": false
   },
   "outputs": [
    {
     "data": {
      "image/png": "[encoded data removed]",
      "text/plain": [
       "Figure(PyObject <Figure size 640x480 with 1 Axes>)"
      ]
     },
     "metadata": {},
     "output_type": "display_data"
    },
    {
     "data": {
      "text/plain": [
       "PyObject <matplotlib.legend.Legend object at 0x7f6768dcc630>"
      ]
     },
     "execution_count": 194,
     "metadata": {},
     "output_type": "execute_result"
    }
   ],
   "source": [
    "extra_3Dplot(x_plot)\n",
    "ax[:view_init](0, 0)"
   ]
  }
 ],
 "metadata": {
  "kernelspec": {
   "display_name": "Julia 1.8.1",
   "language": "julia",
   "name": "julia-1.8"
  },
  "language_info": {
   "file_extension": ".jl",
   "mimetype": "application/julia",
   "name": "julia",
   "version": "1.8.1"
  }
 },
 "nbformat": 4,
 "nbformat_minor": 5
}
