{
 "cells": [
  {
   "cell_type": "markdown",
   "metadata": {},
   "source": []
  },
  {
   "cell_type": "code",
   "execution_count": null,
   "metadata": {},
   "outputs": [],
   "source": [
    "using PyPlot, LinearAlgebra, JuMP, Ipopt, Statistics, Permutations"
   ]
  },
  {
   "cell_type": "code",
   "execution_count": null,
   "metadata": {},
   "outputs": [],
   "source": [
    "include(\"SVIC_code.jl\");\n",
    "include(\"SVIC_plots.jl\");"
   ]
  },
  {
   "cell_type": "markdown",
   "metadata": {},
   "source": [
    "# Graph for Karate's Club"
   ]
  },
  {
   "cell_type": "code",
   "execution_count": null,
   "metadata": {},
   "outputs": [],
   "source": [
    "#Zahary's Karate Club\n",
    "G = smallgraph(:karate)\n",
    "G_2 = AdjacencyMatrix(G);\n",
    "n = 34;\n",
    "A = zeros(n,n)\n",
    "for i in 1:n\n",
    "    for j in 1:n\n",
    "        if G_2[i,j] == true\n",
    "            A[i,j] = 1\n",
    "        else\n",
    "            A[i,j] = 0\n",
    "        end\n",
    "    end\n",
    "end\n",
    "D = A*ones(n,1);\n",
    "W_1 = zeros(n,n)\n",
    "for i in 1:n\n",
    "   W_1[i,:] = A[i,:]./D[i] \n",
    "end"
   ]
  }
 ],
 "metadata": {
  "kernelspec": {
   "display_name": "Julia 1.9.1",
   "language": "julia",
   "name": "julia-1.9"
  },
  "language_info": {
   "file_extension": ".jl",
   "mimetype": "application/julia",
   "name": "julia",
   "version": "1.9.1"
  }
 },
 "nbformat": 4,
 "nbformat_minor": 2
}
