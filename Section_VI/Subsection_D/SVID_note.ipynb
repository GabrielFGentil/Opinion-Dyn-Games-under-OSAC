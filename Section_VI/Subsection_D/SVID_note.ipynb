{
 "cells": [
  {
   "cell_type": "markdown",
   "id": "a57a983f",
   "metadata": {},
   "source": [
    "# Subsection-VID Plots\n",
    "\n",
    "First Code Session:\n",
    "\n",
    "In order to run the code, you will need to ensure that you have all the necessary packages installed, which are in the first code section. Once all the required packages are installed and loaded, you can import the necessary functions using the second code section."
   ]
  },
  {
   "cell_type": "code",
   "execution_count": 2,
   "id": "68b2303b",
   "metadata": {},
   "outputs": [],
   "source": [
    "using PyPlot, LinearAlgebra, JuMP, Ipopt, Statistics, RandomMatrices, Permutations, RollingFunctions"
   ]
  },
  {
   "cell_type": "code",
   "execution_count": 3,
   "id": "0283d031",
   "metadata": {},
   "outputs": [],
   "source": [
    "include(\"SVID_code.jl\");\n",
    "include(\"SVID_plots.jl\");"
   ]
  },
  {
   "cell_type": "markdown",
   "id": "fda86545",
   "metadata": {},
   "source": [
    "The cells below are the settings for plots 12 and 13 of the article."
   ]
  },
  {
   "cell_type": "code",
   "execution_count": 4,
   "id": "cf11e440",
   "metadata": {},
   "outputs": [],
   "source": [
    "#Initial Conditions\n",
    "x_init = [1;0.7;1;0.9;1;-1;-0.8;-1;-0.8;-1]\n",
    "\n",
    "#Players targets\n",
    "N_p = 2\n",
    "x1_hat = -2\n",
    "x2_hat = 2\n",
    "\n",
    "targets = [x1_hat       0;\n",
    "           x1_hat       0;\n",
    "           x1_hat       0;  \n",
    "           x1_hat    x2_hat;  \n",
    "           x1_hat       0;\n",
    "             0       x2_hat;\n",
    "           x1_hat    x2_hat;\n",
    "             0       x2_hat;\n",
    "             0       x2_hat;\n",
    "             0       x2_hat]  \n",
    "\n",
    "γ = [0.01;0.01]\n",
    "\n",
    "#Dynamics\n",
    "B = [1 0; 1 0; 1 0; 1 1; 1 0; 0 1; 1 1; 0 1; 0 1; 0 1]\n",
    "\n",
    "A = rs_ize(a_matrix())\n",
    "N_a = size(A,2)\n",
    "\n",
    "\n",
    "#Friedkin-Johsen model\n",
    "Θ = diagm([0.5,0.3,0,0.8,0,0.1,0,0.3,0,0.6])\n",
    "A_FJ = (I(N_a)-Θ)*A;\n",
    "\n",
    "#Hegselmann-Krause model\n",
    "F = 90;\n",
    "W = 1.6;\n",
    "\n",
    "A_HK = [1 1 1 1 0 0 0 0 0 0;\n",
    "        1 1 1 0 1 0 0 0 0 0;\n",
    "        1 1 1 1 1 0 0 0 0 0;\n",
    "        1 0 1 1 1 1 1 0 0 0;\n",
    "        0 1 1 1 1 0 0 0 0 1;\n",
    "        0 0 0 0 0 1 1 1 1 0;\n",
    "        1 0 0 0 1 1 1 1 1 1;\n",
    "        0 0 0 0 0 1 0 1 1 1;\n",
    "        0 0 0 0 0 1 1 1 1 1;\n",
    "        0 0 0 1 0 0 1 1 1 1]\n",
    "\n",
    "K_f = 35; #horizon\n",
    "T = K_f;"
   ]
  },
  {
   "cell_type": "markdown",
   "id": "1518072b",
   "metadata": {},
   "source": [
    "# Configuration for Plots\n",
    "\n",
    "## Figure 12\n",
    "Set \"perm_flag = 1\", and plot FJc with \"model = 2\" (this is default)"
   ]
  },
  {
   "cell_type": "code",
   "execution_count": 5,
   "id": "319705ec",
   "metadata": {},
   "outputs": [
    {
     "name": "stdout",
     "output_type": "stream",
     "text": [
      "\n",
      "******************************************************************************\n",
      "This program contains Ipopt, a library for large-scale nonlinear optimization.\n",
      " Ipopt is released as open source code under the Eclipse Public License (EPL).\n",
      "         For more information visit https://github.com/coin-or/Ipopt\n",
      "******************************************************************************\n",
      "\n"
     ]
    }
   ],
   "source": [
    "p_flag = 0; #Projection flag\n",
    "perm_flag = 1; #Perm flag\n",
    "#last digit is model: 1 - DeGroot; 2 - FJ; 3 - HK\n",
    "x_os_dg, u_os_dg = COD_OSA_GS(x_init,targets,γ,K_f,A,B,Θ,F,W,p_flag,perm_flag,1);\n",
    "x_os_fj, u_os_fj = COD_OSA_GS(x_init,targets,γ,K_f,A_FJ,B,Θ,F,W,p_flag,perm_flag,2);\n",
    "x_os_hk, u_os_hk = COD_OSA_GS(x_init,targets,γ,K_f,A,B,Θ,F,W,p_flag,perm_flag,3);\n",
    "x_os = [x_os_dg;x_os_fj;x_os_hk];"
   ]
  },
  {
   "cell_type": "code",
   "execution_count": 6,
   "id": "f67303ff",
   "metadata": {
    "scrolled": false
   },
   "outputs": [],
   "source": [
    "#x_plot = mov_avg(x_os_1fj, 1)\n",
    "\n",
    "model = 2  # model: 1 - DeGroot; 2 - FJ; 3 - HK\n",
    "save = 0\n",
    "plot_targ_10a(x_os, T, perm_flag, model, save)"
   ]
  },
  {
   "cell_type": "markdown",
   "id": "b238cb60",
   "metadata": {},
   "source": [
    "# Extra\n",
    "\n",
    "All models can be simulated, with RGS and GS procedures, using the above codes. Just be sure to choose between RGS, \"perm_flag = 1\", or GS, \"perm_flag = 0\", and the desired model, with model = \"x\", where x = 1 (DeGroot); = 2 (FJ); = 3 (HK)."
   ]
  }
 ],
 "metadata": {
  "kernelspec": {
   "display_name": "Julia 1.9.1",
   "language": "julia",
   "name": "julia-1.9"
  },
  "language_info": {
   "file_extension": ".jl",
   "mimetype": "application/julia",
   "name": "julia",
   "version": "1.9.1"
  }
 },
 "nbformat": 4,
 "nbformat_minor": 5
}
